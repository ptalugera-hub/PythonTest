{
 "cells": [
  {
   "cell_type": "code",
   "execution_count": null,
   "id": "cb7169f6",
   "metadata": {},
   "outputs": [],
   "source": [
    "print(\"window-maccs\")"
   ]
  }
 ],
 "metadata": {
  "language_info": {
   "name": "python"
  }
 },
 "nbformat": 4,
 "nbformat_minor": 5
}
